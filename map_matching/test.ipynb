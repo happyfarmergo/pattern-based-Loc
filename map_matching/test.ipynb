{
 "cells": [
  {
   "cell_type": "code",
   "execution_count": 2,
   "metadata": {
    "collapsed": true
   },
   "outputs": [],
   "source": [
    "from HMMM.map_matching import road_routing, shortest_path\n",
    "from HMMM.preprocessing import osm_matcher"
   ]
  },
  {
   "cell_type": "code",
   "execution_count": 11,
   "metadata": {
    "collapsed": false
   },
   "outputs": [],
   "source": [
    "map_dir = '../data/jiading_map'\n",
    "graph, rt_idx, city_edgeGeometry = osm_matcher.build_road_network(map_dir)"
   ]
  },
  {
   "cell_type": "code",
   "execution_count": 12,
   "metadata": {
    "collapsed": false
   },
   "outputs": [
    {
     "data": {
      "text/plain": [
       "550"
      ]
     },
     "execution_count": 12,
     "metadata": {},
     "output_type": "execute_result"
    }
   ],
   "source": [
    "len(city_edgeGeometry)"
   ]
  },
  {
   "cell_type": "code",
   "execution_count": 13,
   "metadata": {
    "collapsed": false
   },
   "outputs": [],
   "source": [
    "source = city_edgeGeometry[129][0]\n",
    "targets = [city_edgeGeometry[87][0], city_edgeGeometry[86][0]]\n",
    "results = road_routing.road_network_route_many(\n",
    "    (source, 0.05),\n",
    "    [(targets[0], 0.5), (targets[1], 0.5)],\n",
    "    graph.get,\n",
    "    1000\n",
    ")"
   ]
  },
  {
   "cell_type": "code",
   "execution_count": 14,
   "metadata": {
    "collapsed": false
   },
   "outputs": [
    {
     "data": {
      "text/plain": [
       "[([Edge(id=87, start_node=44, end_node=AdHocNode(edge_id=87, location=0.5), cost=37.3275290274, reverse_cost=37.3275290274, reversed=False),\n",
       "   Edge(id=95, start_node=39, end_node=44, cost=202.697805855, reverse_cost=202.697805855, reversed=False),\n",
       "   Edge(id=97, start_node=38, end_node=39, cost=60.2957070871, reverse_cost=60.2957070871, reversed=False),\n",
       "   Edge(id=132, start_node=61, end_node=38, cost=15.7616126653, reverse_cost=15.7616126653, reversed=True),\n",
       "   Edge(id=522, start_node=114, end_node=61, cost=265.500650757, reverse_cost=265.500650757, reversed=False),\n",
       "   Edge(id=326, start_node=126, end_node=114, cost=96.4509286063, reverse_cost=96.4509286063, reversed=False),\n",
       "   Edge(id=118, start_node=48, end_node=126, cost=100.496747268, reverse_cost=100.496747268, reversed=True),\n",
       "   Edge(id=388, start_node=57, end_node=48, cost=11.92941696, reverse_cost=11.92941696, reversed=True),\n",
       "   Edge(id=127, start_node=59, end_node=57, cost=33.9212029936, reverse_cost=33.9212029936, reversed=False),\n",
       "   Edge(id=129, start_node=AdHocNode(edge_id=129, location=0.05), end_node=59, cost=128.1821922927, reverse_cost=128.1821922927, reversed=False)],\n",
       "  952.5637935124),\n",
       " (None, -1)]"
      ]
     },
     "execution_count": 14,
     "metadata": {},
     "output_type": "execute_result"
    }
   ],
   "source": [
    "results"
   ]
  },
  {
   "cell_type": "code",
   "execution_count": null,
   "metadata": {
    "collapsed": true
   },
   "outputs": [],
   "source": []
  }
 ],
 "metadata": {
  "kernelspec": {
   "display_name": "Python 2",
   "language": "python",
   "name": "python2"
  },
  "language_info": {
   "codemirror_mode": {
    "name": "ipython",
    "version": 2
   },
   "file_extension": ".py",
   "mimetype": "text/x-python",
   "name": "python",
   "nbconvert_exporter": "python",
   "pygments_lexer": "ipython2",
   "version": "2.7.13"
  }
 },
 "nbformat": 4,
 "nbformat_minor": 2
}

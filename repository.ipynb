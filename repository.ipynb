{
 "cells": [
  {
   "cell_type": "code",
   "execution_count": null,
   "metadata": {},
   "outputs": [],
   "source": [
    "def see_time_diff(df):\n",
    "    time_diff = []\n",
    "    max_trid = max(df['TrajID'])\n",
    "    for tr_id in range(max_trid + 1):\n",
    "        df_i = df[df['TrajID'] == tr_id]\n",
    "        for idx, a in enumerate(list(df_i.index)):\n",
    "            if idx == 0:\n",
    "                time_diff.append(0)\n",
    "                continue\n",
    "            time_diff.append(int(df_i.loc[a]['MRTime']) - int(df_i.loc[a-1]['MRTime']))\n",
    "    df['TimeDiff'] = time_diff\n",
    "    df['TimeDiff'].describe()"
   ]
  },
  {
   "cell_type": "code",
   "execution_count": null,
   "metadata": {},
   "outputs": [],
   "source": [
    "for val in sorted(df['TimeDiff'].unique()):\n",
    "    print (val, 'cnt=', len(df[df['TimeDiff']==val]))"
   ]
  },
  {
   "cell_type": "code",
   "execution_count": null,
   "metadata": {},
   "outputs": [],
   "source": [
    "areas = sorted(statistic.values.tolist(), key=lambda x: x[0])\n",
    "print (areas[int(len(areas) / 10.0 * 9)])"
   ]
  }
 ],
 "metadata": {
  "kernelspec": {
   "display_name": "Python 3",
   "language": "python",
   "name": "python3"
  },
  "language_info": {
   "codemirror_mode": {
    "name": "ipython",
    "version": 3
   },
   "file_extension": ".py",
   "mimetype": "text/x-python",
   "name": "python",
   "nbconvert_exporter": "python",
   "pygments_lexer": "ipython3",
   "version": "3.6.5"
  }
 },
 "nbformat": 4,
 "nbformat_minor": 2
}
